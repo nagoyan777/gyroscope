{
 "cells": [
  {
   "cell_type": "markdown",
   "metadata": {},
   "source": [
    "### gyroscopic metamaterials\n",
    "\n",
    "Topological mechanics of gyroscopic metamaterials,\n",
    "L. M. Nash, PNAS 112 14495 (2015)"
   ]
  },
  {
   "cell_type": "code",
   "execution_count": 61,
   "metadata": {
    "collapsed": false
   },
   "outputs": [],
   "source": [
    "import os, sys, re, glob, numpy as np\n",
    "import matplotlib.pyplot as plt\n",
    "from scipy.integrate import odeint, ode, complex_ode # odeint for real values. use complex_ode for complex.\n",
    "import bokeh"
   ]
  },
  {
   "cell_type": "markdown",
   "metadata": {},
   "source": [
    "\\begin{eqnarray}\n",
    "i \\frac{d \\phi_p}{dt} &=& \\Omega_g' \\psi_p+ \\frac{1}{2}\\sum_q^{NN}{\\left[\\Omega^+(\\psi_p-\\psi_q) + \\Omega^-e^{2i \\theta_{pq} }(\\psi^*_p-\\psi^*_q)\\right]}  \\\\\n",
    "\\psi_p &=& \\delta x_p + i \\delta y_p \\\\\n",
    "\\Omega_g' &=& \\Omega_g - (3a^2/8l^2) \\Omega_m  \\\\\n",
    "\\Omega_g &=& mgl_{cm}/I\\omega \\\\\n",
    "\\Omega^{\\pm} &=& [1 + a^2/6l^2 \\pm (1/4 + a^2/12l^2)] \\Omega_m \\\\\n",
    "\\Omega_m &=& k_m l^2 / I \\omega \\\\\n",
    "k_m &=& 3 \\mu_0 M^2/\\pi a^5\n",
    "\\end{eqnarray}  \n"
   ]
  },
  {
   "cell_type": "code",
   "execution_count": 62,
   "metadata": {
    "collapsed": false
   },
   "outputs": [],
   "source": [
    "#--> constants\n",
    "M = 0.21        # Am^2, strength of the magnetic dipole\n",
    "mu0 =  1.2566370614e-16 # N/A^2 vacuum permeability\n",
    "length = 38.0e-3       # 38.0 mm, effective pendulam length\n",
    "length_cm = length/2  #  The length from the pivot point to center of gravity.\n",
    "a = 30.5e-3     #  30.5 mm, lattice spacing\n",
    "km = 3 * mu0 * M**2 / np.pi / a**5 # spring constatnt between gyroscopes\n",
    "g = 9.80665 #  m/s^2 standard acceleration due to gravity\n",
    "m = 6.1e-3         # 6.1 g, the spinning mass of each gyroscope rotor\n",
    "inertia = 1.0 # rotational inertia\n",
    "omega = 1.0 # gyroscope angular frequency\n",
    "omega_m = km * length**2 / inertia / omega\n",
    "omega_g = m * g * length/2 / inertia / omega\n",
    "omega_g2 = omega_g - 3*a**2/8/l**2 * omega_m\n",
    "omega_plus = (1 + a**2/6/l**2 + 0.25 + a**2/12/l**2) * omega_m\n",
    "omega_minus = (1 + a**2/6/l**2 - (0.25 + a**2/12/l**2)) * omega_m\n"
   ]
  },
  {
   "cell_type": "code",
   "execution_count": 63,
   "metadata": {
    "collapsed": false
   },
   "outputs": [],
   "source": [
    "#--> Initial settings\n",
    "dx = 0.1\n",
    "dy = 0.1j\n",
    "psi = dx + dy"
   ]
  },
  {
   "cell_type": "code",
   "execution_count": 64,
   "metadata": {
    "collapsed": false
   },
   "outputs": [
    {
     "data": {
      "image/png": "[encoded data removed]",
      "text/plain": [
       "<Figure size 432x288 with 1 Axes>"
      ]
     },
     "metadata": {},
     "output_type": "display_data"
    }
   ],
   "source": [
    "x = range(10)\n",
    "y = range(10)\n",
    "\n",
    "lat = a*np.array([[np.cos(np.pi/6), np.sin(np.pi/6)], [np.cos(np.pi/6), -np.sin(np.pi/6)]])\n",
    "pos = np.array([lat[0] * i + lat[1]*j for i in range(-3,4) for j in range(-3,4)])\n",
    "shift = (lat[0] + lat[1])/6\n",
    "pos = np.concatenate([pos-shift, pos+shift])\n",
    "plt.scatter(np.ravel(pos[:,0]), np.ravel(pos[:,1]))\n",
    "plt.grid()\n",
    "plt.show()"
   ]
  },
  {
   "cell_type": "code",
   "execution_count": 78,
   "metadata": {
    "collapsed": false
   },
   "outputs": [
    {
     "ename": "TypeError",
     "evalue": "'float' object is not subscriptable",
     "output_type": "error",
     "traceback": [
      "\u001b[0;31m---------------------------------------------------------------------------\u001b[0m",
      "\u001b[0;31mTypeError\u001b[0m                                 Traceback (most recent call last)",
      "\u001b[0;32m<ipython-input-78-5e55d2e11c1e>\u001b[0m in \u001b[0;36m<module>\u001b[0;34m()\u001b[0m\n\u001b[1;32m     21\u001b[0m \u001b[0;34m\u001b[0m\u001b[0m\n\u001b[1;32m     22\u001b[0m \u001b[0;32mwhile\u001b[0m \u001b[0mv\u001b[0m\u001b[0;34m.\u001b[0m\u001b[0msuccessful\u001b[0m\u001b[0;34m(\u001b[0m\u001b[0;34m)\u001b[0m \u001b[0;32mand\u001b[0m \u001b[0mv\u001b[0m\u001b[0;34m.\u001b[0m\u001b[0mt\u001b[0m \u001b[0;34m<\u001b[0m \u001b[0mt1\u001b[0m\u001b[0;34m:\u001b[0m\u001b[0;34m\u001b[0m\u001b[0m\n\u001b[0;32m---> 23\u001b[0;31m     \u001b[0mprint\u001b[0m\u001b[0;34m(\u001b[0m\u001b[0mv\u001b[0m\u001b[0;34m.\u001b[0m\u001b[0mt\u001b[0m\u001b[0;34m+\u001b[0m\u001b[0mdt\u001b[0m\u001b[0;34m,\u001b[0m \u001b[0mv\u001b[0m\u001b[0;34m.\u001b[0m\u001b[0mintegrate\u001b[0m\u001b[0;34m(\u001b[0m\u001b[0mv\u001b[0m\u001b[0;34m.\u001b[0m\u001b[0mt\u001b[0m\u001b[0;34m+\u001b[0m\u001b[0mdt\u001b[0m\u001b[0;34m)\u001b[0m\u001b[0;34m)\u001b[0m\u001b[0;34m\u001b[0m\u001b[0m\n\u001b[0m\u001b[1;32m     24\u001b[0m \u001b[0;34m\u001b[0m\u001b[0m\n\u001b[1;32m     25\u001b[0m \u001b[0mfig\u001b[0m \u001b[0;34m=\u001b[0m \u001b[0mplt\u001b[0m\u001b[0;34m.\u001b[0m\u001b[0mfigure\u001b[0m\u001b[0;34m(\u001b[0m\u001b[0;34m)\u001b[0m\u001b[0;34m\u001b[0m\u001b[0m\n",
      "\u001b[0;32m~/anaconda/envs/p3/lib/python3.5/site-packages/scipy/integrate/_ode.py\u001b[0m in \u001b[0;36mintegrate\u001b[0;34m(self, t, step, relax)\u001b[0m\n\u001b[1;32m    720\u001b[0m             \u001b[0mThe\u001b[0m \u001b[0mintegrated\u001b[0m \u001b[0mvalue\u001b[0m \u001b[0mat\u001b[0m \u001b[0mt\u001b[0m\u001b[0;34m\u001b[0m\u001b[0m\n\u001b[1;32m    721\u001b[0m         \"\"\"\n\u001b[0;32m--> 722\u001b[0;31m         \u001b[0my\u001b[0m \u001b[0;34m=\u001b[0m \u001b[0mode\u001b[0m\u001b[0;34m.\u001b[0m\u001b[0mintegrate\u001b[0m\u001b[0;34m(\u001b[0m\u001b[0mself\u001b[0m\u001b[0;34m,\u001b[0m \u001b[0mt\u001b[0m\u001b[0;34m,\u001b[0m \u001b[0mstep\u001b[0m\u001b[0;34m,\u001b[0m \u001b[0mrelax\u001b[0m\u001b[0;34m)\u001b[0m\u001b[0;34m\u001b[0m\u001b[0m\n\u001b[0m\u001b[1;32m    723\u001b[0m         \u001b[0;32mreturn\u001b[0m \u001b[0my\u001b[0m\u001b[0;34m[\u001b[0m\u001b[0;34m:\u001b[0m\u001b[0;34m:\u001b[0m\u001b[0;36m2\u001b[0m\u001b[0;34m]\u001b[0m \u001b[0;34m+\u001b[0m \u001b[0;36m1j\u001b[0m \u001b[0;34m*\u001b[0m \u001b[0my\u001b[0m\u001b[0;34m[\u001b[0m\u001b[0;36m1\u001b[0m\u001b[0;34m:\u001b[0m\u001b[0;34m:\u001b[0m\u001b[0;36m2\u001b[0m\u001b[0;34m]\u001b[0m\u001b[0;34m\u001b[0m\u001b[0m\n\u001b[1;32m    724\u001b[0m \u001b[0;34m\u001b[0m\u001b[0m\n",
      "\u001b[0;32m~/anaconda/envs/p3/lib/python3.5/site-packages/scipy/integrate/_ode.py\u001b[0m in \u001b[0;36mintegrate\u001b[0;34m(self, t, step, relax)\u001b[0m\n\u001b[1;32m    430\u001b[0m             self._y, self.t = mth(self.f, self.jac or (lambda: None),\n\u001b[1;32m    431\u001b[0m                                   \u001b[0mself\u001b[0m\u001b[0;34m.\u001b[0m\u001b[0m_y\u001b[0m\u001b[0;34m,\u001b[0m \u001b[0mself\u001b[0m\u001b[0;34m.\u001b[0m\u001b[0mt\u001b[0m\u001b[0;34m,\u001b[0m \u001b[0mt\u001b[0m\u001b[0;34m,\u001b[0m\u001b[0;34m\u001b[0m\u001b[0m\n\u001b[0;32m--> 432\u001b[0;31m                                   self.f_params, self.jac_params)\n\u001b[0m\u001b[1;32m    433\u001b[0m         \u001b[0;32mexcept\u001b[0m \u001b[0mSystemError\u001b[0m\u001b[0;34m:\u001b[0m\u001b[0;34m\u001b[0m\u001b[0m\n\u001b[1;32m    434\u001b[0m             \u001b[0;31m# f2py issue with tuple returns, see ticket 1187.\u001b[0m\u001b[0;34m\u001b[0m\u001b[0;34m\u001b[0m\u001b[0m\n",
      "\u001b[0;32m~/anaconda/envs/p3/lib/python3.5/site-packages/scipy/integrate/_ode.py\u001b[0m in \u001b[0;36mrun\u001b[0;34m(self, f, jac, y0, t0, t1, f_params, jac_params)\u001b[0m\n\u001b[1;32m   1170\u001b[0m     \u001b[0;32mdef\u001b[0m \u001b[0mrun\u001b[0m\u001b[0;34m(\u001b[0m\u001b[0mself\u001b[0m\u001b[0;34m,\u001b[0m \u001b[0mf\u001b[0m\u001b[0;34m,\u001b[0m \u001b[0mjac\u001b[0m\u001b[0;34m,\u001b[0m \u001b[0my0\u001b[0m\u001b[0;34m,\u001b[0m \u001b[0mt0\u001b[0m\u001b[0;34m,\u001b[0m \u001b[0mt1\u001b[0m\u001b[0;34m,\u001b[0m \u001b[0mf_params\u001b[0m\u001b[0;34m,\u001b[0m \u001b[0mjac_params\u001b[0m\u001b[0;34m)\u001b[0m\u001b[0;34m:\u001b[0m\u001b[0;34m\u001b[0m\u001b[0m\n\u001b[1;32m   1171\u001b[0m         x, y, iwork, istate = self.runner(*((f, t0, y0, t1) +\n\u001b[0;32m-> 1172\u001b[0;31m                                           tuple(self.call_args) + (f_params,)))\n\u001b[0m\u001b[1;32m   1173\u001b[0m         \u001b[0mself\u001b[0m\u001b[0;34m.\u001b[0m\u001b[0mistate\u001b[0m \u001b[0;34m=\u001b[0m \u001b[0mistate\u001b[0m\u001b[0;34m\u001b[0m\u001b[0m\n\u001b[1;32m   1174\u001b[0m         \u001b[0;32mif\u001b[0m \u001b[0mistate\u001b[0m \u001b[0;34m<\u001b[0m \u001b[0;36m0\u001b[0m\u001b[0;34m:\u001b[0m\u001b[0;34m\u001b[0m\u001b[0m\n",
      "\u001b[0;32m~/anaconda/envs/p3/lib/python3.5/site-packages/scipy/integrate/_ode.py\u001b[0m in \u001b[0;36m_wrap\u001b[0;34m(self, t, y, *f_args)\u001b[0m\n\u001b[1;32m    626\u001b[0m \u001b[0;34m\u001b[0m\u001b[0m\n\u001b[1;32m    627\u001b[0m     \u001b[0;32mdef\u001b[0m \u001b[0m_wrap\u001b[0m\u001b[0;34m(\u001b[0m\u001b[0mself\u001b[0m\u001b[0;34m,\u001b[0m \u001b[0mt\u001b[0m\u001b[0;34m,\u001b[0m \u001b[0my\u001b[0m\u001b[0;34m,\u001b[0m \u001b[0;34m*\u001b[0m\u001b[0mf_args\u001b[0m\u001b[0;34m)\u001b[0m\u001b[0;34m:\u001b[0m\u001b[0;34m\u001b[0m\u001b[0m\n\u001b[0;32m--> 628\u001b[0;31m         \u001b[0mf\u001b[0m \u001b[0;34m=\u001b[0m \u001b[0mself\u001b[0m\u001b[0;34m.\u001b[0m\u001b[0mcf\u001b[0m\u001b[0;34m(\u001b[0m\u001b[0;34m*\u001b[0m\u001b[0;34m(\u001b[0m\u001b[0;34m(\u001b[0m\u001b[0mt\u001b[0m\u001b[0;34m,\u001b[0m \u001b[0my\u001b[0m\u001b[0;34m[\u001b[0m\u001b[0;34m:\u001b[0m\u001b[0;34m:\u001b[0m\u001b[0;36m2\u001b[0m\u001b[0;34m]\u001b[0m \u001b[0;34m+\u001b[0m \u001b[0;36m1j\u001b[0m \u001b[0;34m*\u001b[0m \u001b[0my\u001b[0m\u001b[0;34m[\u001b[0m\u001b[0;36m1\u001b[0m\u001b[0;34m:\u001b[0m\u001b[0;34m:\u001b[0m\u001b[0;36m2\u001b[0m\u001b[0;34m]\u001b[0m\u001b[0;34m)\u001b[0m \u001b[0;34m+\u001b[0m \u001b[0mf_args\u001b[0m\u001b[0;34m)\u001b[0m\u001b[0;34m)\u001b[0m\u001b[0;34m\u001b[0m\u001b[0m\n\u001b[0m\u001b[1;32m    629\u001b[0m         \u001b[0;31m# self.tmp is a real-valued array containing the interleaved\u001b[0m\u001b[0;34m\u001b[0m\u001b[0;34m\u001b[0m\u001b[0m\n\u001b[1;32m    630\u001b[0m         \u001b[0;31m# real and imaginary parts of f.\u001b[0m\u001b[0;34m\u001b[0m\u001b[0;34m\u001b[0m\u001b[0m\n",
      "\u001b[0;31mTypeError\u001b[0m: 'float' object is not subscriptable"
     ]
    }
   ],
   "source": [
    "from mpl_toolkits.mplot3d import Axes3D\n",
    "\n",
    "def func(psi, t, pos, rmax=1):\n",
    "    def d(pos1, pos2):\n",
    "        return np.linalg.norm(pos1 - pos2)\n",
    "\n",
    "    dpsi_dt = omega_g2 * psi.copy()\n",
    "    for i, dpsi in enumerate(dpsi_dt):\n",
    "        for j in range(len(psi)):\n",
    "            if d(pos[i], pos[j]) <= rmax:\n",
    "                dpsi += omega_plus * (psi[i]-psi[j]) + omega_minus * np.exp(2j * theta[i,j]) * (psi[i].conjugate() - psi[j].conjugate())\n",
    "    return dpsi_dt\n",
    "\n",
    "t = np.arange(0, 100, 0.01)\n",
    "n = 10\n",
    "y0, t0 = np.array([0j]*len(pos)), 0.0\n",
    "v = complex_ode(func).set_integrator('dopri5') \n",
    "v.set_initial_value(y0, t0).set_f_params(pos, a)\n",
    "t1 = 10\n",
    "dt = 1\n",
    "\n",
    "while v.successful() and v.t < t1:\n",
    "    print(v.t+dt, v.integrate(v.t+dt))\n",
    "\n",
    "fig = plt.figure()\n",
    "ax = fig.gca(projection='3d')\n",
    "ax.plot(v[:, 0], v[:, 1], v[:, 2])\n",
    "plt.show()"
   ]
  },
  {
   "cell_type": "code",
   "execution_count": null,
   "metadata": {
    "collapsed": false
   },
   "outputs": [
    {
     "name": "stdout",
     "output_type": "stream",
     "text": [
      "> \u001b[0;32m/Users/nagoyan/anaconda/envs/p3/lib/python3.5/site-packages/scipy/integrate/_ode.py\u001b[0m(628)\u001b[0;36m_wrap\u001b[0;34m()\u001b[0m\n",
      "\u001b[0;32m    626 \u001b[0;31m\u001b[0;34m\u001b[0m\u001b[0m\n",
      "\u001b[0m\u001b[0;32m    627 \u001b[0;31m    \u001b[0;32mdef\u001b[0m \u001b[0m_wrap\u001b[0m\u001b[0;34m(\u001b[0m\u001b[0mself\u001b[0m\u001b[0;34m,\u001b[0m \u001b[0mt\u001b[0m\u001b[0;34m,\u001b[0m \u001b[0my\u001b[0m\u001b[0;34m,\u001b[0m \u001b[0;34m*\u001b[0m\u001b[0mf_args\u001b[0m\u001b[0;34m)\u001b[0m\u001b[0;34m:\u001b[0m\u001b[0;34m\u001b[0m\u001b[0m\n",
      "\u001b[0m\u001b[0;32m--> 628 \u001b[0;31m        \u001b[0mf\u001b[0m \u001b[0;34m=\u001b[0m \u001b[0mself\u001b[0m\u001b[0;34m.\u001b[0m\u001b[0mcf\u001b[0m\u001b[0;34m(\u001b[0m\u001b[0;34m*\u001b[0m\u001b[0;34m(\u001b[0m\u001b[0;34m(\u001b[0m\u001b[0mt\u001b[0m\u001b[0;34m,\u001b[0m \u001b[0my\u001b[0m\u001b[0;34m[\u001b[0m\u001b[0;34m:\u001b[0m\u001b[0;34m:\u001b[0m\u001b[0;36m2\u001b[0m\u001b[0;34m]\u001b[0m \u001b[0;34m+\u001b[0m \u001b[0;36m1j\u001b[0m \u001b[0;34m*\u001b[0m \u001b[0my\u001b[0m\u001b[0;34m[\u001b[0m\u001b[0;36m1\u001b[0m\u001b[0;34m:\u001b[0m\u001b[0;34m:\u001b[0m\u001b[0;36m2\u001b[0m\u001b[0;34m]\u001b[0m\u001b[0;34m)\u001b[0m \u001b[0;34m+\u001b[0m \u001b[0mf_args\u001b[0m\u001b[0;34m)\u001b[0m\u001b[0;34m)\u001b[0m\u001b[0;34m\u001b[0m\u001b[0m\n",
      "\u001b[0m\u001b[0;32m    629 \u001b[0;31m        \u001b[0;31m# self.tmp is a real-valued array containing the interleaved\u001b[0m\u001b[0;34m\u001b[0m\u001b[0;34m\u001b[0m\u001b[0m\n",
      "\u001b[0m\u001b[0;32m    630 \u001b[0;31m        \u001b[0;31m# real and imaginary parts of f.\u001b[0m\u001b[0;34m\u001b[0m\u001b[0;34m\u001b[0m\u001b[0m\n",
      "\u001b[0m\n",
      "ipdb> pos\n",
      "*** NameError: name 'pos' is not defined\n",
      "ipdb> f_args\n",
      "()\n",
      "ipdb> y\n",
      "0.0305\n",
      "ipdb> t\n",
      "array([[-0.16728724,  0.        ],\n",
      "       [-0.14087347, -0.01525   ],\n",
      "       [-0.11445969, -0.0305    ],\n",
      "       [-0.08804592, -0.04575   ],\n",
      "       [-0.06163214, -0.061     ],\n",
      "       [-0.03521837, -0.07625   ],\n",
      "       [-0.00880459, -0.0915    ],\n",
      "       [-0.14087347,  0.01525   ],\n",
      "       [-0.11445969,  0.        ],\n",
      "       [-0.08804592, -0.01525   ],\n",
      "       [-0.06163214, -0.0305    ],\n",
      "       [-0.03521837, -0.04575   ],\n",
      "       [-0.00880459, -0.061     ],\n",
      "       [ 0.01760918, -0.07625   ],\n",
      "       [-0.11445969,  0.0305    ],\n",
      "       [-0.08804592,  0.01525   ],\n",
      "       [-0.06163214,  0.        ],\n",
      "       [-0.03521837, -0.01525   ],\n",
      "       [-0.00880459, -0.0305    ],\n",
      "       [ 0.01760918, -0.04575   ],\n",
      "       [ 0.04402296, -0.061     ],\n",
      "       [-0.08804592,  0.04575   ],\n",
      "       [-0.06163214,  0.0305    ],\n",
      "       [-0.03521837,  0.01525   ],\n",
      "       [-0.00880459,  0.        ],\n",
      "       [ 0.01760918, -0.01525   ],\n",
      "       [ 0.04402296, -0.0305    ],\n",
      "       [ 0.07043673, -0.04575   ],\n",
      "       [-0.06163214,  0.061     ],\n",
      "       [-0.03521837,  0.04575   ],\n",
      "       [-0.00880459,  0.0305    ],\n",
      "       [ 0.01760918,  0.01525   ],\n",
      "       [ 0.04402296,  0.        ],\n",
      "       [ 0.07043673, -0.01525   ],\n",
      "       [ 0.09685051, -0.0305    ],\n",
      "       [-0.03521837,  0.07625   ],\n",
      "       [-0.00880459,  0.061     ],\n",
      "       [ 0.01760918,  0.04575   ],\n",
      "       [ 0.04402296,  0.0305    ],\n",
      "       [ 0.07043673,  0.01525   ],\n",
      "       [ 0.09685051,  0.        ],\n",
      "       [ 0.12326428, -0.01525   ],\n",
      "       [-0.00880459,  0.0915    ],\n",
      "       [ 0.01760918,  0.07625   ],\n",
      "       [ 0.04402296,  0.061     ],\n",
      "       [ 0.07043673,  0.04575   ],\n",
      "       [ 0.09685051,  0.0305    ],\n",
      "       [ 0.12326428,  0.01525   ],\n",
      "       [ 0.14967806,  0.        ],\n",
      "       [-0.14967806,  0.        ],\n",
      "       [-0.12326428, -0.01525   ],\n",
      "       [-0.09685051, -0.0305    ],\n",
      "       [-0.07043673, -0.04575   ],\n",
      "       [-0.04402296, -0.061     ],\n",
      "       [-0.01760918, -0.07625   ],\n",
      "       [ 0.00880459, -0.0915    ],\n",
      "       [-0.12326428,  0.01525   ],\n",
      "       [-0.09685051,  0.        ],\n",
      "       [-0.07043673, -0.01525   ],\n",
      "       [-0.04402296, -0.0305    ],\n",
      "       [-0.01760918, -0.04575   ],\n",
      "       [ 0.00880459, -0.061     ],\n",
      "       [ 0.03521837, -0.07625   ],\n",
      "       [-0.09685051,  0.0305    ],\n",
      "       [-0.07043673,  0.01525   ],\n",
      "       [-0.04402296,  0.        ],\n",
      "       [-0.01760918, -0.01525   ],\n",
      "       [ 0.00880459, -0.0305    ],\n",
      "       [ 0.03521837, -0.04575   ],\n",
      "       [ 0.06163214, -0.061     ],\n",
      "       [-0.07043673,  0.04575   ],\n",
      "       [-0.04402296,  0.0305    ],\n",
      "       [-0.01760918,  0.01525   ],\n",
      "       [ 0.00880459,  0.        ],\n",
      "       [ 0.03521837, -0.01525   ],\n",
      "       [ 0.06163214, -0.0305    ],\n",
      "       [ 0.08804592, -0.04575   ],\n",
      "       [-0.04402296,  0.061     ],\n",
      "       [-0.01760918,  0.04575   ],\n",
      "       [ 0.00880459,  0.0305    ],\n",
      "       [ 0.03521837,  0.01525   ],\n",
      "       [ 0.06163214,  0.        ],\n",
      "       [ 0.08804592, -0.01525   ],\n",
      "       [ 0.11445969, -0.0305    ],\n",
      "       [-0.01760918,  0.07625   ],\n",
      "       [ 0.00880459,  0.061     ],\n",
      "       [ 0.03521837,  0.04575   ],\n",
      "       [ 0.06163214,  0.0305    ],\n",
      "       [ 0.08804592,  0.01525   ],\n",
      "       [ 0.11445969,  0.        ],\n",
      "       [ 0.14087347, -0.01525   ],\n",
      "       [ 0.00880459,  0.0915    ],\n",
      "       [ 0.03521837,  0.07625   ],\n",
      "       [ 0.06163214,  0.061     ],\n",
      "       [ 0.08804592,  0.04575   ],\n",
      "       [ 0.11445969,  0.0305    ],\n",
      "       [ 0.14087347,  0.01525   ],\n",
      "       [ 0.16728724,  0.        ]])\n",
      "ipdb> u\n",
      "> \u001b[0;32m/Users/nagoyan/anaconda/envs/p3/lib/python3.5/site-packages/scipy/integrate/_ode.py\u001b[0m(1172)\u001b[0;36mrun\u001b[0;34m()\u001b[0m\n",
      "\u001b[0;32m   1170 \u001b[0;31m    \u001b[0;32mdef\u001b[0m \u001b[0mrun\u001b[0m\u001b[0;34m(\u001b[0m\u001b[0mself\u001b[0m\u001b[0;34m,\u001b[0m \u001b[0mf\u001b[0m\u001b[0;34m,\u001b[0m \u001b[0mjac\u001b[0m\u001b[0;34m,\u001b[0m \u001b[0my0\u001b[0m\u001b[0;34m,\u001b[0m \u001b[0mt0\u001b[0m\u001b[0;34m,\u001b[0m \u001b[0mt1\u001b[0m\u001b[0;34m,\u001b[0m \u001b[0mf_params\u001b[0m\u001b[0;34m,\u001b[0m \u001b[0mjac_params\u001b[0m\u001b[0;34m)\u001b[0m\u001b[0;34m:\u001b[0m\u001b[0;34m\u001b[0m\u001b[0m\n",
      "\u001b[0m\u001b[0;32m   1171 \u001b[0;31m        x, y, iwork, istate = self.runner(*((f, t0, y0, t1) +\n",
      "\u001b[0m\u001b[0;32m-> 1172 \u001b[0;31m                                          tuple(self.call_args) + (f_params,)))\n",
      "\u001b[0m\u001b[0;32m   1173 \u001b[0;31m        \u001b[0mself\u001b[0m\u001b[0;34m.\u001b[0m\u001b[0mistate\u001b[0m \u001b[0;34m=\u001b[0m \u001b[0mistate\u001b[0m\u001b[0;34m\u001b[0m\u001b[0m\n",
      "\u001b[0m\u001b[0;32m   1174 \u001b[0;31m        \u001b[0;32mif\u001b[0m \u001b[0mistate\u001b[0m \u001b[0;34m<\u001b[0m \u001b[0;36m0\u001b[0m\u001b[0;34m:\u001b[0m\u001b[0;34m\u001b[0m\u001b[0m\n",
      "\u001b[0m\n",
      "ipdb> u\n",
      "> \u001b[0;32m/Users/nagoyan/anaconda/envs/p3/lib/python3.5/site-packages/scipy/integrate/_ode.py\u001b[0m(435)\u001b[0;36mintegrate\u001b[0;34m()\u001b[0m\n",
      "\u001b[0;32m    433 \u001b[0;31m        \u001b[0;32mexcept\u001b[0m \u001b[0mSystemError\u001b[0m\u001b[0;34m:\u001b[0m\u001b[0;34m\u001b[0m\u001b[0m\n",
      "\u001b[0m\u001b[0;32m    434 \u001b[0;31m            \u001b[0;31m# f2py issue with tuple returns, see ticket 1187.\u001b[0m\u001b[0;34m\u001b[0m\u001b[0;34m\u001b[0m\u001b[0m\n",
      "\u001b[0m\u001b[0;32m--> 435 \u001b[0;31m            \u001b[0;32mraise\u001b[0m \u001b[0mValueError\u001b[0m\u001b[0;34m(\u001b[0m\u001b[0;34m'Function to integrate must not return a tuple.'\u001b[0m\u001b[0;34m)\u001b[0m\u001b[0;34m\u001b[0m\u001b[0m\n",
      "\u001b[0m\u001b[0;32m    436 \u001b[0;31m\u001b[0;34m\u001b[0m\u001b[0m\n",
      "\u001b[0m\u001b[0;32m    437 \u001b[0;31m        \u001b[0;32mreturn\u001b[0m \u001b[0mself\u001b[0m\u001b[0;34m.\u001b[0m\u001b[0m_y\u001b[0m\u001b[0;34m\u001b[0m\u001b[0m\n",
      "\u001b[0m\n"
     ]
    }
   ],
   "source": [
    "%debug"
   ]
  },
  {
   "cell_type": "code",
   "execution_count": null,
   "metadata": {
    "collapsed": true
   },
   "outputs": [],
   "source": []
  }
 ],
 "metadata": {
  "kernelspec": {
   "display_name": "Python 3",
   "language": "python",
   "name": "python3"
  },
  "language_info": {
   "codemirror_mode": {
    "name": "ipython",
    "version": 3
   },
   "file_extension": ".py",
   "mimetype": "text/x-python",
   "name": "python",
   "nbconvert_exporter": "python",
   "pygments_lexer": "ipython3",
   "version": "3.5.2"
  }
 },
 "nbformat": 4,
 "nbformat_minor": 2
}
